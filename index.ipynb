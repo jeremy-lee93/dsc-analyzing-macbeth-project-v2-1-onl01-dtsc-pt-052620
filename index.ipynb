{
 "cells": [
  {
   "cell_type": "markdown",
   "metadata": {},
   "source": [
    "# Project: Analyzing Macbeth\n",
    "\n",
    "## Introduction\n",
    "Now we're going to do some rudimentary analysis of Shakespeare's classic play: Macbeth! You will get practice working with lists and dictionaries, conditionals, visualizing data, and thinking analytically about data.\n",
    "\n",
    "## Objectives\n",
    "You will be able to:\n",
    "* Apply string methods to make changes to a string\n",
    "* Use a `for` loop to iterate over a collection\n",
    "* Assign values in a dictionary\n",
    "\n",
    "## Getting the Data\n",
    "Here we start by importing a Python package called `requests`. We'll use it to pull the transcript of Macbeth from the [Project Gutenberg](https://www.gutenberg.org/) website. We'll also preview a few details about what is now stored in the variable `macbeth`. As you can see, it's a string with 120,253 characters - the first 500 of which are printed below. "
   ]
  },
  {
   "cell_type": "code",
   "execution_count": 20,
   "metadata": {},
   "outputs": [
    {
     "name": "stdout",
     "output_type": "stream",
     "text": [
      "<class 'str'>\n",
      "120253\n",
      "﻿\r\n",
      "\r\n",
      "***The Project Gutenberg's Etext of Shakespeare's First Folio***\r\n",
      "********************The Tragedie of Macbeth*********************\r\n",
      "\r\n",
      "\r\n",
      "\r\n",
      "*******************************************************************\r\n",
      "THIS EBOOK WAS ONE OF PROJECT GUTENBERG'S EARLY FILES PRODUCED AT A\r\n",
      "TIME WHEN PROOFING METHODS AND TOOLS WERE NOT WELL DEVELOPED. THERE\r\n",
      "IS AN IMPROVED EDITION OF THIS TITLE WHICH MAY BE VIEWED AS EBOOK\r\n",
      "(#1533) at https://www.gutenberg.org/ebooks/1533\r\n",
      "*********************************\n"
     ]
    },
    {
     "data": {
      "text/plain": [
       "'e'"
      ]
     },
     "execution_count": 20,
     "metadata": {},
     "output_type": "execute_result"
    }
   ],
   "source": [
    "import requests\n",
    "macbeth = requests.get('http://www.gutenberg.org/cache/epub/2264/pg2264.txt').text\n",
    "\n",
    "print(type(macbeth))\n",
    "print(len(macbeth))\n",
    "print(macbeth[:500])\n"
   ]
  },
  {
   "cell_type": "markdown",
   "metadata": {},
   "source": [
    "## Your Task\n",
    "\n",
    "Your task is to create a bar graph of the 25 most common words in Shakespeare's Macbeth.  \n",
    "\n",
    "\n",
    "A common Python programming pattern to count objects, produce histograms, or update statistics is to make calls to a dictionary as you iterate through a list. For example, given a list of words, you can create a dictionary to store counts and then iterate through the list of words, checking how many times each word has appeared using your dictionary, and updating the dictionary count now that you've seen that word again. The `.get()` dictionary method is very useful in doing this. Read the docstring for the `.get()` method and use it along with the pseudocode below to create a bar graph of the 25 most common words from the transcript of Macbeth which has been loaded into the variable 'macbeth'. Be sure to include a title and appropriate labels for your graph.\n",
    "\n",
    "To get the 25 *most common* words, you will have to sort your counts. If you are not super sure how to do this, checkout out the [Sorting HOW TO](https://docs.python.org/3/howto/sorting.html) Python documentation. Part of being a data scientist is figuring out how to do tasks that you may not have done before. Remember, in these situations, Google is your friend!"
   ]
  },
  {
   "cell_type": "code",
   "execution_count": 18,
   "metadata": {},
   "outputs": [
    {
     "data": {
      "image/png": "[encoded data removed]",
      "text/plain": [
       "<Figure size 1080x720 with 1 Axes>"
      ]
     },
     "metadata": {
      "needs_background": "light"
     },
     "output_type": "display_data"
    }
   ],
   "source": [
    "import numpy as np\n",
    "import matplotlib.pyplot as plt\n",
    "%matplotlib inline\n",
    "\n",
    "\n",
    "# Your code here\n",
    "listofallwords = macbeth.split() #splits macbeth string into words from macbeth file.\n",
    "\n",
    "#Only looking for words that were written by Shakespeare so we need to define a starting and endpoint from listofallwords\n",
    "\n",
    "how_many_words_total = len(listofallwords)\n",
    "\n",
    "#print(listofallwords) #visually search for where Shakespeare's writing starts\n",
    "\n",
    "listofallwords.index('Reed') # the word \"Reed\" is the last word before the text of the play starts\n",
    "just_macbeth = listofallwords[2652:] #just the words written by Shakespeare\n",
    "\n",
    "unique_words = list(set(listofallwords)) #create a list of unique words\n",
    "\n",
    "normalized_listofallwords = [] #create an empty list variable to store all words after being changed to lowercase\n",
    "normalized_just_text = []\n",
    "\n",
    "for word in listofallwords:\n",
    "    normalized_listofallwords.append(word.lower())\n",
    "    \n",
    "for word in just_macbeth:\n",
    "    normalized_just_text.append(word.lower())\n",
    "\n",
    "len(listofallwords) # check length of total words in macbeth\n",
    "len(unique_words) # check length of unique words in macbeth\n",
    "\n",
    "word_count = {} #create an empty dictionary to store word counts\n",
    "\n",
    "for word in normalized_listofallwords:\n",
    "    word_count[word] = word_count.get(word, 0) + 1\n",
    "    \n",
    "word_count # Check to see that for loop worked\n",
    "\n",
    "\n",
    "words_from_largest_to_smallest = sorted(word_count.items(), key=lambda x: x[1], reverse=True) #sort the dictionary from smallest to largest\n",
    "    \n",
    "words_from_largest_to_smallest\n",
    "\n",
    "    \n",
    "top_twenty_five = words_from_largest_to_smallest[0:25]\n",
    "x = []\n",
    "y=[]\n",
    "for xval in top_twenty_five:\n",
    "    x.append(xval[0])\n",
    "for yval in top_twenty_five:\n",
    "    y.append(yval[1])\n",
    "    \n",
    "plt.figure(figsize=(15,10))\n",
    "plt.bar(x, y, label='Word Count')\n",
    "\n",
    "plt.xlabel('Most Common Words')\n",
    "plt.ylabel('Quantities')\n",
    "\n",
    "plt.title(\"Most Common Words in Macbeth\")\n",
    "plt.legend()\n",
    "plt.show()\n",
    "\n",
    "# Pseudo-code outline\n",
    "\n",
    "# Split the transcript into words\n",
    "# Create a dictionary\n",
    "# Iterate through the text of Macbeth\n",
    "# Update word counts\n",
    "# Sort words by counts in descending order\n",
    "# Create Bar Graph\n",
    "# Include descriptive titles and labels"
   ]
  },
  {
   "cell_type": "markdown",
   "metadata": {},
   "source": [
    "## Level Up (Optional)\n",
    "This project should take you about an hour and a half to complete. If you're done much more quickly than that and are not behind in the course, feel free to deepen your knowledge by completing any or all of the following tasks until you run out of time:\n",
    "* Create a list of top characters by mentions of their names \n",
    "* Split the text by which character is talking\n",
    "* Create subgraphs of the most common words by character\n",
    "* Reduce the string to the text of the play itself. (Remove any initial notes, forward, introduction, appendix, etc.)\n",
    "* Come up with some other fun analyses of the text!\n",
    "\n",
    "## Summary\n",
    "Congratulations! You've got some extra practice combining various data types into useful programming patterns and done an initial analysis of a classic text!"
   ]
  },
  {
   "cell_type": "code",
   "execution_count": 19,
   "metadata": {},
   "outputs": [
    {
     "data": {
      "text/plain": [
       "<Figure size 1080x720 with 0 Axes>"
      ]
     },
     "metadata": {},
     "output_type": "display_data"
    },
    {
     "data": {
      "image/png": "[encoded data removed]",
      "text/plain": [
       "<Figure size 1080x720 with 1 Axes>"
      ]
     },
     "metadata": {
      "needs_background": "light"
     },
     "output_type": "display_data"
    }
   ],
   "source": [
    "word_count_just_macbeth = {}\n",
    "\n",
    "for word in normalized_just_text:\n",
    "    word_count_just_macbeth[word] = word_count_just_macbeth.get(word, 0) + 1\n",
    "    \n",
    "just_macbeth_ordered = sorted(word_count_just_macbeth.items(), key=lambda x: x[1], reverse=True)\n",
    "\n",
    "top_twenty_five_just_macbeth = just_macbeth_ordered[0:25]\n",
    "x_macbeth = []\n",
    "y_macbeth = []\n",
    "\n",
    "for x in top_twenty_five_just_macbeth:\n",
    "    x_macbeth.append(x[0])\n",
    "for y in top_twenty_five_just_macbeth:\n",
    "    y_macbeth.append(y[1])\n",
    "\n",
    "plt.figure(figsize=(15,10))\n",
    "\n",
    "\n",
    "plt.figure(figsize=(15,10))\n",
    "plt.bar(x_macbeth, y_macbeth, label='Word Count')\n",
    "\n",
    "plt.xlabel('Most Common Words in Macbeth Text')\n",
    "plt.ylabel('Quantities')\n",
    "\n",
    "plt.title(\"Most Common Words in Macbeth Text Only\")\n",
    "plt.legend()\n",
    "plt.show()"
   ]
  },
  {
   "cell_type": "code",
   "execution_count": null,
   "metadata": {},
   "outputs": [],
   "source": []
  },
  {
   "cell_type": "code",
   "execution_count": null,
   "metadata": {},
   "outputs": [],
   "source": []
  }
 ],
 "metadata": {
  "kernelspec": {
   "display_name": "learn-env",
   "language": "python",
   "name": "learn-env"
  },
  "language_info": {
   "codemirror_mode": {
    "name": "ipython",
    "version": 3
   },
   "file_extension": ".py",
   "mimetype": "text/x-python",
   "name": "python",
   "nbconvert_exporter": "python",
   "pygments_lexer": "ipython3",
   "version": "3.6.9"
  }
 },
 "nbformat": 4,
 "nbformat_minor": 2
}
